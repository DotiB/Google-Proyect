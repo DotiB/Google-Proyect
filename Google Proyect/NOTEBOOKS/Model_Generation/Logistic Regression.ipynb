{
 "cells": [
  {
   "cell_type": "code",
   "execution_count": 1,
   "metadata": {},
   "outputs": [],
   "source": [
    "import pandas as pd\n",
    "import sklearn.metrics as metrics\n",
    "import matplotlib.pyplot as plt"
   ]
  },
  {
   "cell_type": "markdown",
   "metadata": {},
   "source": [
    "Read the csv"
   ]
  },
  {
   "cell_type": "code",
   "execution_count": 2,
   "metadata": {},
   "outputs": [],
   "source": [
    "data = pd.read_csv(\"D:\\Desktop\\Google Proyect\\DATA\\OUT\\data_sin_outliers.csv\", delimiter=',',index_col=False)\n"
   ]
  },
  {
   "cell_type": "markdown",
   "metadata": {},
   "source": [
    "Used get dummies to transform the columns \"Education\" and \"Marital_Status\""
   ]
  },
  {
   "cell_type": "code",
   "execution_count": 3,
   "metadata": {},
   "outputs": [],
   "source": [
    "data = pd.get_dummies(data, columns=[\"Education\", \"Marital_Status\"], drop_first=True)"
   ]
  },
  {
   "cell_type": "markdown",
   "metadata": {},
   "source": [
    "The Logistic Regression Model begins to be created."
   ]
  },
  {
   "cell_type": "code",
   "execution_count": 4,
   "metadata": {},
   "outputs": [
    {
     "name": "stdout",
     "output_type": "stream",
     "text": [
      "Model Precision: 0.7891\n"
     ]
    }
   ],
   "source": [
    "# Import necessary libraries\n",
    "from sklearn.linear_model import LogisticRegression\n",
    "from sklearn.metrics import precision_score\n",
    "from sklearn.model_selection import train_test_split\n",
    "from sklearn.preprocessing import StandardScaler\n",
    "\n",
    "\n",
    "X_cols = ['MntMeatProducts', 'MntWines', 'Income', 'NumStorePurchases', 'Marital_Status_Married', 'MntFruits']\n",
    "y_col = 'Kidhome'\n",
    "\n",
    "# Extract features (X) and target variable (y) from the dataset\n",
    "X = data[X_cols].values\n",
    "y = data[y_col].values\n",
    "\n",
    "# Split the data into training and testing sets\n",
    "X_train, X_test, y_train, y_test = train_test_split(X, y, test_size=0.2, random_state=42)\n",
    "\n",
    "# Standardize the features\n",
    "sc_x = StandardScaler().fit(X_train)\n",
    "X_train_scaled = sc_x.transform(X_train)\n",
    "X_test_scaled = sc_x.transform(X_test)\n",
    "\n",
    "# Initialize the logistic regression model\n",
    "logreg = LogisticRegression()\n",
    "\n",
    "# Train the model\n",
    "logreg.fit(X_train_scaled, y_train)\n",
    "\n",
    "# Predict on the test set\n",
    "y_pred_proba = logreg.predict_proba(X_test_scaled)  # Probabilities for all classes\n",
    "\n",
    "# Choose the predicted class (change according to your needs)\n",
    "y_pred_class = y_pred_proba.argmax(axis=1)\n",
    "\n",
    "# Calculate the model precision\n",
    "precision = precision_score(y_test, y_pred_class, average='micro')  # You can change 'micro' to 'macro' or 'weighted'\n",
    "\n",
    "# Display the precision\n",
    "print(f'Model Precision: {precision:.4f}')\n",
    "\n"
   ]
  },
  {
   "cell_type": "markdown",
   "metadata": {},
   "source": [
    "Cross validation is used to find the best parameters"
   ]
  },
  {
   "cell_type": "code",
   "execution_count": 5,
   "metadata": {},
   "outputs": [
    {
     "name": "stderr",
     "output_type": "stream",
     "text": [
      "C:\\Users\\Familia\\AppData\\Roaming\\Python\\Python310\\site-packages\\sklearn\\model_selection\\_split.py:737: UserWarning: The least populated class in y has only 36 members, which is less than n_splits=200.\n",
      "  warnings.warn(\n"
     ]
    },
    {
     "name": "stdout",
     "output_type": "stream",
     "text": [
      "Best Parameters: {'C': 0.001, 'penalty': 'l2'}\n",
      "Model Precision: 0.7982\n"
     ]
    }
   ],
   "source": [
    "from sklearn.model_selection import train_test_split, GridSearchCV\n",
    "\n",
    "\n",
    "\n",
    "\n",
    "X_cols = ['MntMeatProducts', 'MntWines', 'Income', 'NumStorePurchases', 'Marital_Status_Married', 'MntFruits']\n",
    "y_col = 'Kidhome'\n",
    "\n",
    "# Extract features (X) and target variable (y) from the dataset\n",
    "X = data[X_cols].values\n",
    "y = data[y_col].values\n",
    "\n",
    "# Split the data into training and testing sets\n",
    "X_train, X_test, y_train, y_test = train_test_split(X, y, test_size=0.2, random_state=42)\n",
    "\n",
    "# Standardize the features\n",
    "sc_x = StandardScaler().fit(X_train)\n",
    "X_train_scaled = sc_x.transform(X_train)\n",
    "X_test_scaled = sc_x.transform(X_test)\n",
    "\n",
    "# Initialize the logistic regression model\n",
    "logreg = LogisticRegression()\n",
    "\n",
    "# Define the parameter grid for GridSearchCV\n",
    "param_grid = {\n",
    "    'C': [0.001, 0.01, 0.1, 1, 10, 100],  # Regularization strength\n",
    "    'penalty': ['l2'],  # 'lbfgs' solver only supports 'l2' or 'none'\n",
    "}\n",
    "\n",
    "# Create the GridSearchCV object\n",
    "grid_search = GridSearchCV(logreg, param_grid, cv=200, scoring='precision_micro')\n",
    "\n",
    "# Fit the model with GridSearchCV\n",
    "grid_search.fit(X_train_scaled, y_train)\n",
    "\n",
    "# Get the best parameters\n",
    "best_params = grid_search.best_params_\n",
    "\n",
    "# Display the best parameters\n",
    "print(\"Best Parameters:\", best_params)\n",
    "\n",
    "# Predict on the test set using the best model\n",
    "y_pred_proba = grid_search.predict_proba(X_test_scaled)\n",
    "y_pred_class = y_pred_proba.argmax(axis=1)\n",
    "\n",
    "# Calculate the model precision\n",
    "precision = precision_score(y_test, y_pred_class, average='micro')\n",
    "print(f'Model Precision: {precision:.4f}')\n"
   ]
  },
  {
   "cell_type": "markdown",
   "metadata": {},
   "source": [
    "Export the model with the best parameters"
   ]
  },
  {
   "cell_type": "code",
   "execution_count": 6,
   "metadata": {},
   "outputs": [
    {
     "data": {
      "text/plain": [
       "['D:\\\\Desktop\\\\Google Proyect\\\\MODELS\\\\EXPORTED MODELS\\\\_best_logreg_model.pkl']"
      ]
     },
     "execution_count": 6,
     "metadata": {},
     "output_type": "execute_result"
    }
   ],
   "source": [
    "import joblib  # Si usas scikit-learn version 0.23 o superior, utiliza \"from sklearn import joblib\"\n",
    "\n",
    "\n",
    "X_cols = ['MntMeatProducts', 'MntWines', 'Income', 'NumStorePurchases', 'Marital_Status_Married', 'MntFruits']\n",
    "y_col = 'Kidhome'\n",
    "\n",
    "# Extraer características (X) y variable objetivo (y) desde el DataFrame (data)\n",
    "X = data[X_cols].values\n",
    "y = data[y_col].values\n",
    "\n",
    "# Dividir los datos en conjuntos de entrenamiento y prueba\n",
    "X_train, X_test, y_train, y_test = train_test_split(X, y, test_size=0.2, random_state=42)\n",
    "\n",
    "# Estandarizar las características\n",
    "sc_x = StandardScaler().fit(X_train)\n",
    "X_train_scaled = sc_x.transform(X_train)\n",
    "X_test_scaled = sc_x.transform(X_test)\n",
    "\n",
    "# Inicializar el modelo de regresión logística con los mejores hiperparámetros\n",
    "best_logreg = LogisticRegression(C=0.001, penalty='l2')\n",
    "\n",
    "# Entrenar el modelo con los datos de entrenamiento\n",
    "best_logreg.fit(X_train_scaled, y_train)\n",
    "\n",
    "# Guardar el modelo en un archivo\n",
    "joblib.dump(best_logreg, 'D:\\Desktop\\Google Proyect\\MODELS\\EXPORTED MODELS\\_best_logreg_model.pkl')"
   ]
  }
 ],
 "metadata": {
  "kernelspec": {
   "display_name": "base",
   "language": "python",
   "name": "python3"
  },
  "language_info": {
   "codemirror_mode": {
    "name": "ipython",
    "version": 3
   },
   "file_extension": ".py",
   "mimetype": "text/x-python",
   "name": "python",
   "nbconvert_exporter": "python",
   "pygments_lexer": "ipython3",
   "version": "3.10.9"
  }
 },
 "nbformat": 4,
 "nbformat_minor": 2
}
